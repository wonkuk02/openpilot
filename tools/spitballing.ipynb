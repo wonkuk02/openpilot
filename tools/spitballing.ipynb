{
 "cells": [
  {
   "cell_type": "markdown",
   "metadata": {},
   "source": []
  },
  {
   "cell_type": "code",
   "execution_count": 11,
   "metadata": {},
   "outputs": [],
   "source": [
    "from sympy import *"
   ]
  },
  {
   "cell_type": "code",
   "execution_count": 12,
   "metadata": {},
   "outputs": [
    {
     "data": {
      "text/latex": [
       "$\\displaystyle - \\sin{\\left(x \\right)}$"
      ],
      "text/plain": [
       "-sin(x)"
      ]
     },
     "execution_count": 12,
     "metadata": {},
     "output_type": "execute_result"
    }
   ],
   "source": [
    "x, y, z = symbols('x y z')\n",
    "diff(cos(x))"
   ]
  },
  {
   "cell_type": "code",
   "execution_count": 40,
   "metadata": {},
   "outputs": [
    {
     "data": {
      "text/plain": [
       "[0.5*(vi**2 - 2.0)/a]"
      ]
     },
     "execution_count": 40,
     "metadata": {},
     "output_type": "execute_result"
    }
   ],
   "source": [
    "d,a,vi = symbols('d a vi')\n",
    "solve(-d - 1/a + 1/2*vi**2/a,a)"
   ]
  },
  {
   "cell_type": "code",
   "execution_count": 53,
   "metadata": {},
   "outputs": [
    {
     "data": {
      "text/plain": [
       "-1.125"
      ]
     },
     "execution_count": 53,
     "metadata": {},
     "output_type": "execute_result"
    }
   ],
   "source": [
    "# constant acceleration necessary to stop at 'd' distance from starting velocity 'vi'\n",
    "def accel_to_stop(vi,d):\n",
    "    return -0.5*(vi**2)/d\n",
    "\n",
    "# distance to stop at constant acceleration 'a' from starting velocity 'vl' \n",
    "def distance_to_stop(vi,a):\n",
    "    return -vi**2*0.5/a\n",
    "\n",
    "# d(10,-2)\n",
    "\n",
    "accel_to_stop(15,100)"
   ]
  }
 ],
 "metadata": {
  "kernelspec": {
   "display_name": "Python 3.8.10 ('openpilot-4RmvJrBV')",
   "language": "python",
   "name": "python3"
  },
  "language_info": {
   "codemirror_mode": {
    "name": "ipython",
    "version": 3
   },
   "file_extension": ".py",
   "mimetype": "text/x-python",
   "name": "python",
   "nbconvert_exporter": "python",
   "pygments_lexer": "ipython3",
   "version": "3.8.10"
  },
  "orig_nbformat": 4,
  "vscode": {
   "interpreter": {
    "hash": "757ebb23b72adeca34b46a1f407913c1300e6334f8aeac006bbf13e21de4deba"
   }
  }
 },
 "nbformat": 4,
 "nbformat_minor": 2
}
